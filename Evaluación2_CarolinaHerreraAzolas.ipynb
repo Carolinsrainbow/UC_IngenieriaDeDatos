{
  "nbformat": 4,
  "nbformat_minor": 0,
  "metadata": {
    "colab": {
      "provenance": [],
      "include_colab_link": true
    },
    "kernelspec": {
      "name": "python3",
      "display_name": "Python 3"
    },
    "language_info": {
      "name": "python"
    }
  },
  "cells": [
    {
      "cell_type": "markdown",
      "metadata": {
        "id": "view-in-github",
        "colab_type": "text"
      },
      "source": [
        "<a href=\"https://colab.research.google.com/github/Carolinsrainbow/UC_IngenieriaDeDatos/blob/main/Evaluaci%C3%B3n2_CarolinaHerreraAzolas.ipynb\" target=\"_parent\"><img src=\"https://colab.research.google.com/assets/colab-badge.svg\" alt=\"Open In Colab\"/></a>"
      ]
    },
    {
      "cell_type": "markdown",
      "source": [
        "#Tarea 2 -- formulario de carga de datos y respuestas\n",
        "\n",
        "En este notebook pueden ingresar sus respuestas a las preguntas de tarea 2, y asegurarse que sus comandos SQL funcionan de manera adecuada."
      ],
      "metadata": {
        "id": "8BXXue8KDsQz"
      }
    },
    {
      "cell_type": "markdown",
      "source": [
        "\n",
        "\n",
        "### Cargar SQLite y subir la base de datos a Google Colab\n",
        "\n",
        "Cómo siempre, para poder ocupar el notebook, lo deben subir a https://colab.research.google.com\n",
        "\n",
        "Luego, ejecutando el siguiente campo, se crea una instancia de servidor SQLite, se creará el esquema vista en el enunciado, y se cargarán los datos desde un google drive."
      ],
      "metadata": {
        "id": "-GIMqhcTEPx1"
      }
    },
    {
      "cell_type": "code",
      "source": [
        "%load_ext sql\n",
        "!wget -O datos_T2.db --no-check-certificate https://drive.google.com/uc\\?export\\=download\\&id\\=1XHbkX4QCDeHQTPy_mOw68Wo8rqYMyY6o\n",
        "\n",
        "%sql sqlite:///datos_T2.db"
      ],
      "metadata": {
        "id": "OVSDhz3-hrku",
        "colab": {
          "base_uri": "https://localhost:8080/"
        },
        "outputId": "48dc56a9-dfe6-47a1-c64c-9bbb2f4b7330"
      },
      "execution_count": 1,
      "outputs": [
        {
          "output_type": "stream",
          "name": "stdout",
          "text": [
            "--2024-04-14 00:30:18--  https://drive.google.com/uc?export=download&id=1XHbkX4QCDeHQTPy_mOw68Wo8rqYMyY6o\n",
            "Resolving drive.google.com (drive.google.com)... 172.253.115.102, 172.253.115.100, 172.253.115.139, ...\n",
            "Connecting to drive.google.com (drive.google.com)|172.253.115.102|:443... connected.\n",
            "HTTP request sent, awaiting response... 303 See Other\n",
            "Location: https://drive.usercontent.google.com/download?id=1XHbkX4QCDeHQTPy_mOw68Wo8rqYMyY6o&export=download [following]\n",
            "--2024-04-14 00:30:18--  https://drive.usercontent.google.com/download?id=1XHbkX4QCDeHQTPy_mOw68Wo8rqYMyY6o&export=download\n",
            "Resolving drive.usercontent.google.com (drive.usercontent.google.com)... 142.250.31.132, 2607:f8b0:4004:c0b::84\n",
            "Connecting to drive.usercontent.google.com (drive.usercontent.google.com)|142.250.31.132|:443... connected.\n",
            "HTTP request sent, awaiting response... 200 OK\n",
            "Length: 118784 (116K) [application/octet-stream]\n",
            "Saving to: ‘datos_T2.db’\n",
            "\n",
            "datos_T2.db         100%[===================>] 116.00K  --.-KB/s    in 0.01s   \n",
            "\n",
            "2024-04-14 00:30:18 (11.8 MB/s) - ‘datos_T2.db’ saved [118784/118784]\n",
            "\n"
          ]
        }
      ]
    },
    {
      "cell_type": "markdown",
      "source": [
        "##Pregunta 1\n",
        "\n",
        "Para asegurarse qué la base de datos está cargada, en esta pregunta deben correr una serie de comandos de tipo:\n",
        "```\n",
        "SELECT *\n",
        "FROM NombreTabla\n",
        "LIMIT 5;\n",
        "```\n",
        "\n",
        "Por ejemplo, para ver la tabla `Persona`, puedes correr:\n",
        "\n",
        "```\n",
        "SELECT *\n",
        "FROM Persona\n",
        "LIMIT 5;\n",
        "```\n",
        "\n",
        "Dado que nuestras tablas tienen 100 o más tuplas, desplegaremos solo las primeras 5 con el comando `LIMIT 5`."
      ],
      "metadata": {
        "id": "Pwj39cMXFB9b"
      }
    },
    {
      "cell_type": "code",
      "source": [
        "%%sql\n",
        "\n",
        "SELECT *\n",
        "FROM Persona\n",
        "LIMIT 5;"
      ],
      "metadata": {
        "id": "8ZECs_9rhjNH",
        "colab": {
          "base_uri": "https://localhost:8080/",
          "height": 179
        },
        "outputId": "ea2da876-658e-412e-dbba-1b66314c1356"
      },
      "execution_count": 2,
      "outputs": [
        {
          "output_type": "stream",
          "name": "stdout",
          "text": [
            " * sqlite:///datos_T2.db\n",
            "Done.\n"
          ]
        },
        {
          "output_type": "execute_result",
          "data": {
            "text/plain": [
              "[('Brian Sanders', '442-30-8082', '127-998-7310', 'brian.sanders@mail.cl'),\n",
              " ('Caleb Simpson', '151-44-5451', '+1-741-621-2285', 'caleb.simpson@mail.cl'),\n",
              " ('Kelly Mccullough', '315-42-0080', '417-906-4707', 'kelly.mccullough@uc.cl'),\n",
              " ('Jason Martin', '562-11-8702', '5667649532', 'jason.martin@uc.cl'),\n",
              " ('Natalie Lane', '893-23-0369', '+1-942-497-5393x1664', 'natalie.lane@mail.cl')]"
            ],
            "text/html": [
              "<table>\n",
              "    <thead>\n",
              "        <tr>\n",
              "            <th>nombre</th>\n",
              "            <th>rut</th>\n",
              "            <th>telefono</th>\n",
              "            <th>correo</th>\n",
              "        </tr>\n",
              "    </thead>\n",
              "    <tbody>\n",
              "        <tr>\n",
              "            <td>Brian Sanders</td>\n",
              "            <td>442-30-8082</td>\n",
              "            <td>127-998-7310</td>\n",
              "            <td>brian.sanders@mail.cl</td>\n",
              "        </tr>\n",
              "        <tr>\n",
              "            <td>Caleb Simpson</td>\n",
              "            <td>151-44-5451</td>\n",
              "            <td>+1-741-621-2285</td>\n",
              "            <td>caleb.simpson@mail.cl</td>\n",
              "        </tr>\n",
              "        <tr>\n",
              "            <td>Kelly Mccullough</td>\n",
              "            <td>315-42-0080</td>\n",
              "            <td>417-906-4707</td>\n",
              "            <td>kelly.mccullough@uc.cl</td>\n",
              "        </tr>\n",
              "        <tr>\n",
              "            <td>Jason Martin</td>\n",
              "            <td>562-11-8702</td>\n",
              "            <td>5667649532</td>\n",
              "            <td>jason.martin@uc.cl</td>\n",
              "        </tr>\n",
              "        <tr>\n",
              "            <td>Natalie Lane</td>\n",
              "            <td>893-23-0369</td>\n",
              "            <td>+1-942-497-5393x1664</td>\n",
              "            <td>natalie.lane@mail.cl</td>\n",
              "        </tr>\n",
              "    </tbody>\n",
              "</table>"
            ]
          },
          "metadata": {},
          "execution_count": 2
        }
      ]
    },
    {
      "cell_type": "markdown",
      "source": [
        "##Pregunta 2\n",
        "\n",
        "Ahora que tenemos nuestra base de datos preparada, la podemos analizar en más detalles. En esta primera pregunta te pedimos encontrar la(s) persona(s) qué participa(n) en máxima cantidad de talleres que se realizan en **Honduras**. Se requiere escribir una consulta SQL que recupera esta información sobre nuestro esquema. Esto quiere decir que la consulta debe devolver esta misma información sobre cualquier instancia de nuestro esquema, y no solo con la instancia que estamos revisando."
      ],
      "metadata": {
        "id": "yB4d1b1KFw3v"
      }
    },
    {
      "cell_type": "code",
      "source": [
        "%%sql\n",
        "\n"
      ],
      "metadata": {
        "id": "NcLY99I3F32R"
      },
      "execution_count": null,
      "outputs": []
    },
    {
      "cell_type": "markdown",
      "source": [
        "##Pregunta 3\n",
        "\n",
        "Ahora nos interesaría encontrar el nombre del deporte más popular. Para esto, escriba la consulta SQL que encuentra el nombre de deporte de taller deportivo con la mayor cantidad de participantes. Notar que buscamos el taller más popular (quiere decir con la mayor cantidad de participantes), y de dicho taller extraemos el nombre del deporte. De nuevo, tu consulta debe funcionar sobre cualquier instancia de nuestro esquema.\n"
      ],
      "metadata": {
        "id": "5ajnI5m7F9pI"
      }
    },
    {
      "cell_type": "code",
      "source": [
        "%%sql\n",
        "\n"
      ],
      "metadata": {
        "id": "dz23KWdDGU-n"
      },
      "execution_count": null,
      "outputs": []
    },
    {
      "cell_type": "markdown",
      "source": [
        "##Pregunta 4\n",
        "\n",
        "Ahora para cada taller instrumental cuenta el número de gente con el correo “@uc” participando. Debes escribir una consulta SQL que devuelve el id del taller, nombre del instrumento, y el número de personas con el correo “@uc” inscritas a este taller. Para filtrar la gente participando, ocupa el comando LIKE, que permite buscar sobre un string."
      ],
      "metadata": {
        "id": "7OyQmth3GgJi"
      }
    },
    {
      "cell_type": "code",
      "source": [
        "%%sql\n",
        "\n"
      ],
      "metadata": {
        "id": "lQOBVFpoGn0R"
      },
      "execution_count": null,
      "outputs": []
    },
    {
      "cell_type": "markdown",
      "source": [
        "##Pregunta 5\n",
        "\n",
        "Para cada persona, computa la cantidad de talleres en cuales participa esta persona. Esto debe incluir tantos talleres deportivos, cómo talleres instrumentales. Una manera de resolver esta consulta es ocupando consultas anidadas en la cláusula `FROM`, computando dicho número para cada tipo de taller."
      ],
      "metadata": {
        "id": "VqoJcVwnjJHu"
      }
    },
    {
      "cell_type": "code",
      "source": [
        "%%sql"
      ],
      "metadata": {
        "id": "THPoqjevjMr7"
      },
      "execution_count": null,
      "outputs": []
    }
  ]
}