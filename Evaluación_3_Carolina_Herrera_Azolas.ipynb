{
  "nbformat": 4,
  "nbformat_minor": 0,
  "metadata": {
    "colab": {
      "provenance": [],
      "authorship_tag": "ABX9TyOSFl+nNAq/QbslkgJhrbPG",
      "include_colab_link": true
    },
    "kernelspec": {
      "name": "python3",
      "display_name": "Python 3"
    },
    "language_info": {
      "name": "python"
    }
  },
  "cells": [
    {
      "cell_type": "markdown",
      "metadata": {
        "id": "view-in-github",
        "colab_type": "text"
      },
      "source": [
        "<a href=\"https://colab.research.google.com/github/Carolinsrainbow/UC_IngenieriaDeDatos/blob/main/Evaluaci%C3%B3n_3_Carolina_Herrera_Azolas.ipynb\" target=\"_parent\"><img src=\"https://colab.research.google.com/assets/colab-badge.svg\" alt=\"Open In Colab\"/></a>"
      ]
    },
    {
      "cell_type": "code",
      "execution_count": null,
      "metadata": {
        "id": "hnvVCB-XuNh2"
      },
      "outputs": [],
      "source": []
    },
    {
      "cell_type": "markdown",
      "source": [
        "Tarea: Analizando datos con SQL y Pandas\n"
      ],
      "metadata": {
        "id": "-Efo4MPDuT6n"
      }
    },
    {
      "cell_type": "markdown",
      "source": [
        "Pregunta 1\n",
        "En esta primera pregunta, te pedimos ejecutar la primera celda en el notebook para\n",
        "configurar el entorno de SQL, Pandas, Python, y descargar todos los datos necesarios para\n",
        "la tarea. En particular, se descargará el archivo datos_T3.db, y\n",
        "country_profile_variables.csv."
      ],
      "metadata": {
        "id": "WGgR_7FGxjnO"
      }
    },
    {
      "cell_type": "code",
      "source": [
        "# Incorporación de SQL, Pandas & Python\n",
        "%load_ext sql\n",
        "import pandas as pd\n",
        "import sqlite3\n",
        "import matplotlib.pyplot as plt"
      ],
      "metadata": {
        "colab": {
          "base_uri": "https://localhost:8080/"
        },
        "id": "U3m8_krQxv9P",
        "outputId": "741efef7-9d79-48aa-9aca-967cad0110d6"
      },
      "execution_count": 3,
      "outputs": [
        {
          "output_type": "stream",
          "name": "stdout",
          "text": [
            "The sql extension is already loaded. To reload it, use:\n",
            "  %reload_ext sql\n"
          ]
        }
      ]
    },
    {
      "cell_type": "code",
      "source": [
        "# Incorporación de CSV\n"
      ],
      "metadata": {
        "id": "7bx4e_2Gyqq3"
      },
      "execution_count": null,
      "outputs": []
    }
  ]
}